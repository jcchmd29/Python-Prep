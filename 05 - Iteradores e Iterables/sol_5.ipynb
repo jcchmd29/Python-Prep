{
 "cells": [
  {
   "cell_type": "code",
   "execution_count": 7,
   "metadata": {},
   "outputs": [
    {
     "name": "stdout",
     "output_type": "stream",
     "text": [
      "[-15, -14, -13, -12, -11, -10, -9, -8, -7, -6, -5, -4, -3, -2, -1]\n"
     ]
    }
   ],
   "source": [
    "lista_neg=[]\n",
    "n =-15\n",
    "while(n<0):\n",
    "    lista_neg.append(n)\n",
    "    n+=1\n",
    "print(lista_neg)"
   ]
  },
  {
   "cell_type": "code",
   "execution_count": 8,
   "metadata": {},
   "outputs": [
    {
     "name": "stdout",
     "output_type": "stream",
     "text": [
      "-14\n",
      "-12\n",
      "-10\n",
      "-8\n",
      "-6\n",
      "-4\n",
      "-2\n"
     ]
    }
   ],
   "source": [
    "n=0\n",
    "while (n < len(lista_neg)):\n",
    "    if (lista_neg[n] % 2 == 0):\n",
    "        print(lista_neg[n])\n",
    "    n += 1\n"
   ]
  },
  {
   "cell_type": "code",
   "execution_count": 11,
   "metadata": {},
   "outputs": [
    {
     "name": "stdout",
     "output_type": "stream",
     "text": [
      "-14\n",
      "-12\n",
      "-10\n",
      "-8\n",
      "-6\n",
      "-4\n",
      "-2\n"
     ]
    }
   ],
   "source": [
    "\n",
    "for i in lista_neg:\n",
    "    if (i % 2 ==0):\n",
    "        print(i)"
   ]
  },
  {
   "cell_type": "code",
   "execution_count": 10,
   "metadata": {},
   "outputs": [
    {
     "name": "stdout",
     "output_type": "stream",
     "text": [
      "-15\n",
      "-14\n",
      "-13\n"
     ]
    }
   ],
   "source": [
    "for i in lista_neg[:3]:\n",
    "    print(i)"
   ]
  },
  {
   "cell_type": "code",
   "execution_count": 12,
   "metadata": {},
   "outputs": [
    {
     "name": "stdout",
     "output_type": "stream",
     "text": [
      "0 -15\n",
      "1 -14\n",
      "2 -13\n",
      "3 -12\n",
      "4 -11\n",
      "5 -10\n",
      "6 -9\n",
      "7 -8\n",
      "8 -7\n",
      "9 -6\n",
      "10 -5\n",
      "11 -4\n",
      "12 -3\n",
      "13 -2\n",
      "14 -1\n"
     ]
    }
   ],
   "source": [
    "for i,e in enumerate(lista_neg):\n",
    "    print(i,e)"
   ]
  },
  {
   "cell_type": "code",
   "execution_count": 28,
   "metadata": {},
   "outputs": [
    {
     "name": "stdout",
     "output_type": "stream",
     "text": [
      "0 1\n",
      "1 2\n",
      "2 5\n",
      "3 7\n",
      "4 8\n",
      "5 10\n",
      "6 13\n",
      "7 14\n",
      "8 15\n",
      "9 17\n",
      "10 20\n"
     ]
    }
   ],
   "source": [
    "lista=[1,2,5,7,8,10,13,14,15,17,20]\n",
    "\n",
    "for i,e in  enumerate(lista):\n",
    "     print(i,e)"
   ]
  },
  {
   "cell_type": "code",
   "execution_count": null,
   "metadata": {},
   "outputs": [],
   "source": [
    "#6\n",
    "lista=[1,2,5,7,8,10,13,14,15,17,20]\n",
    "\n",
    "for i,e in enumerate(lista):\n",
    "    print(i,e)\n",
    "    if (e == i+1):\n",
    "        print('valor encontrado')\n",
    "    else:\n",
    "        lista.insert[e]=i\n",
    "    \n",
    "    print(i)"
   ]
  },
  {
   "cell_type": "code",
   "execution_count": null,
   "metadata": {},
   "outputs": [],
   "source": [
    "n=1\n",
    "while(n<=20):\n",
    "    if (not (n in lista)):\n",
    "            lista.insert((n-1),n)\n",
    "    n += 1\n",
    "for i,e in enumerate(lista):\n",
    "    print(i, 'posicion  - valor ',e)"
   ]
  },
  {
   "cell_type": "code",
   "execution_count": 76,
   "metadata": {},
   "outputs": [
    {
     "name": "stdout",
     "output_type": "stream",
     "text": [
      "La n esta en la posicion 7\n",
      "La n esta en la posicion 21\n",
      "La n esta en la posicion 39\n",
      "La n esta en la posicion 60\n",
      "La n esta en la posicion 67\n"
     ]
    }
   ],
   "source": [
    "#R 10\n",
    "cadena = 'hola mundo. esto es una practica del lenguaje de programacion python'\n",
    "for i,c in enumerate(cadena):\n",
    "    #print(i,c)\n",
    "    if (c == 'n'):\n",
    "      print('La n esta en la posicion',i)\n"
   ]
  },
  {
   "cell_type": "code",
   "execution_count": 10,
   "metadata": {},
   "outputs": [
    {
     "name": "stdout",
     "output_type": "stream",
     "text": [
      "direccion\n",
      "apellido\n",
      "nombre\n"
     ]
    }
   ],
   "source": [
    "#11\n",
    "midicc = {'nombre','apellido','direccion'}\n",
    "for i in midicc:\n",
    "    print(i)"
   ]
  },
  {
   "cell_type": "code",
   "execution_count": null,
   "metadata": {},
   "outputs": [],
   "source": []
  }
 ],
 "metadata": {
  "kernelspec": {
   "display_name": "Python 3",
   "language": "python",
   "name": "python3"
  },
  "language_info": {
   "codemirror_mode": {
    "name": "ipython",
    "version": 3
   },
   "file_extension": ".py",
   "mimetype": "text/x-python",
   "name": "python",
   "nbconvert_exporter": "python",
   "pygments_lexer": "ipython3",
   "version": "3.11.1 (tags/v3.11.1:a7a450f, Dec  6 2022, 19:43:28) [MSC v.1934 32 bit (Intel)]"
  },
  "orig_nbformat": 4,
  "vscode": {
   "interpreter": {
    "hash": "89a5003fa4d04edff07a126a2c6f2ee59ee1adb31e9fcd60b29f2b77c18232ea"
   }
  }
 },
 "nbformat": 4,
 "nbformat_minor": 2
}

{
 "cells": [
  {
   "cell_type": "markdown",
   "metadata": {},
   "source": []
  },
  {
   "attachments": {},
   "cell_type": "markdown",
   "metadata": {},
   "source": [
    "1) Crear una variable que contenga un elemento del conjunto de números enteros y luego imprimir por pantalla si es mayor o menor a cero"
   ]
  },
  {
   "cell_type": "code",
   "execution_count": 4,
   "metadata": {},
   "outputs": [
    {
     "name": "stdout",
     "output_type": "stream",
     "text": [
      "-2  El numero es menor que cero\n"
     ]
    }
   ],
   "source": [
    "num = -2\n",
    "if (num > 0):\n",
    "    print(num,' El numero es mayor a cero')\n",
    "elif (num < 0):\n",
    "        print(num,' El numero es menor que cero')\n"
   ]
  },
  {
   "attachments": {},
   "cell_type": "markdown",
   "metadata": {},
   "source": [
    "2) Crear dos variables y un condicional que informe si son del mismo tipo de dato"
   ]
  },
  {
   "cell_type": "code",
   "execution_count": 10,
   "metadata": {},
   "outputs": [
    {
     "name": "stdout",
     "output_type": "stream",
     "text": [
      "4 y 2  son del mismo tipo <class 'str'>\n"
     ]
    }
   ],
   "source": [
    "var1 = '4'\n",
    "var2 = '2'\n",
    "if (type (var1) == type (var2)):\n",
    "    print( var1, 'y', var2, ' son del mismo tipo', type(var1))\n",
    "else:\n",
    "    print ('No son del mismo tipo', 'la variable 1 es ', type (var1), 'y la 2 es ', type(var2))"
   ]
  },
  {
   "attachments": {},
   "cell_type": "markdown",
   "metadata": {},
   "source": [
    "3) Para los valores enteros del 1 al 20, imprimir por pantalla si es par o impar\n"
   ]
  },
  {
   "cell_type": "code",
   "execution_count": 40,
   "metadata": {},
   "outputs": [
    {
     "name": "stdout",
     "output_type": "stream",
     "text": [
      "Estos son los pares:\n",
      "2  Es Par\n",
      "4  Es Par\n",
      "6  Es Par\n",
      "8  Es Par\n",
      "10  Es Par\n",
      "12  Es Par\n",
      "14  Es Par\n",
      "16  Es Par\n",
      "18  Es Par\n",
      "20  Es Par\n",
      "Estos son los impares:\n",
      "1  Es Par\n",
      "3  Es Par\n",
      "5  Es Par\n",
      "7  Es Par\n",
      "9  Es Par\n",
      "11  Es Par\n",
      "13  Es Par\n",
      "15  Es Par\n",
      "17  Es Par\n",
      "19  Es Par\n"
     ]
    }
   ],
   "source": [
    "print ('Estos son los pares:')\n",
    "\n",
    "for n in range(1,21):\n",
    "\n",
    "    if (n % 2 == 0):\n",
    "        print(n, ' Es Par')\n",
    "    # else:\n",
    "        # print(n, ' Es impar')\n",
    "        \n",
    "print ('Estos son los impares:')\n",
    "\n",
    "for n in range(1,21):\n",
    "\n",
    "    if (n % 2 > 0):\n",
    "        print(n, ' Es Par')"
   ]
  },
  {
   "attachments": {},
   "cell_type": "markdown",
   "metadata": {},
   "source": [
    "4) En un ciclo for mostrar para los valores entre 0 y 5 el resultado de elevarlo a la potencia igual a 3"
   ]
  },
  {
   "cell_type": "code",
   "execution_count": 80,
   "metadata": {},
   "outputs": [
    {
     "name": "stdout",
     "output_type": "stream",
     "text": [
      "0  Elevado a la 3 es  0\n",
      "1  Elevado a la 3 es  1\n",
      "2  Elevado a la 3 es  8\n",
      "3  Elevado a la 3 es  27\n",
      "4  Elevado a la 3 es  64\n",
      "5  Elevado a la 3 es  125\n"
     ]
    }
   ],
   "source": [
    "for n in range(0,6):\n",
    "    print (str(n), ' Elevado a la 3 es ', str(n ** 3))"
   ]
  },
  {
   "attachments": {},
   "cell_type": "markdown",
   "metadata": {},
   "source": [
    "5) Crear una variable que contenga un número entero y realizar un ciclo for la misma cantidad de ciclos"
   ]
  },
  {
   "cell_type": "code",
   "execution_count": 81,
   "metadata": {},
   "outputs": [
    {
     "name": "stdout",
     "output_type": "stream",
     "text": [
      "0\n",
      "1\n",
      "2\n"
     ]
    }
   ],
   "source": [
    "var = 3\n",
    "for i in range (var):\n",
    "    print (i)\n",
    "    \n"
   ]
  },
  {
   "attachments": {},
   "cell_type": "markdown",
   "metadata": {},
   "source": [
    "6) Utilizar un ciclo while para realizar el factorial de un número guardado en una variable, sólo si la variable contiene un número entero mayor a 0"
   ]
  },
  {
   "cell_type": "code",
   "execution_count": null,
   "metadata": {},
   "outputs": [],
   "source": []
  },
  {
   "cell_type": "code",
   "execution_count": 85,
   "metadata": {},
   "outputs": [
    {
     "name": "stdout",
     "output_type": "stream",
     "text": [
      "El factorial de  8 es 8360755200\n"
     ]
    }
   ],
   "source": [
    "n = 8\n",
    "if (type(n) == int):\n",
    "    if (n > 0):\n",
    "        n_orig = n\n",
    "        while (n > 1):\n",
    "            n = n - 1\n",
    "            factorial = factorial * n\n",
    "        print('El factorial de ', n_orig,'es', factorial)\n",
    "    else:\n",
    "        print('La variable no es mayor a cero')\n",
    "else:\n",
    "    print('La variable no es un entero')"
   ]
  },
  {
   "attachments": {},
   "cell_type": "markdown",
   "metadata": {},
   "source": [
    "7) Crear un ciclo for dentro de un ciclo while"
   ]
  },
  {
   "cell_type": "code",
   "execution_count": 4,
   "metadata": {},
   "outputs": [
    {
     "name": "stdout",
     "output_type": "stream",
     "text": [
      "0  ciclo For\n",
      "1  ciclo For\n",
      "2  ciclo For\n",
      "3  ciclo For\n",
      "4  ciclo For\n",
      "Fin Ciclo while \n"
     ]
    }
   ],
   "source": [
    "n = 5\n",
    "while (i < n ):\n",
    "    for i in range (n):\n",
    "        print (i,' ciclo For')\n",
    "        n -= 1\n",
    "print ('Fin Ciclo while ')\n",
    "n=0\n"
   ]
  },
  {
   "cell_type": "code",
   "execution_count": 3,
   "metadata": {},
   "outputs": [
    {
     "name": "stdout",
     "output_type": "stream",
     "text": [
      "Ciclo while nro 2\n",
      "Ciclo for nro 1\n",
      "Ciclo while nro 3\n",
      "Ciclo for nro 1\n",
      "Ciclo while nro 3\n",
      "Ciclo for nro 2\n",
      "Ciclo while nro 4\n",
      "Ciclo for nro 1\n",
      "Ciclo while nro 4\n",
      "Ciclo for nro 2\n",
      "Ciclo while nro 4\n",
      "Ciclo for nro 3\n",
      "Ciclo while nro 5\n",
      "Ciclo for nro 1\n",
      "Ciclo while nro 5\n",
      "Ciclo for nro 2\n",
      "Ciclo while nro 5\n",
      "Ciclo for nro 3\n",
      "Ciclo while nro 5\n",
      "Ciclo for nro 4\n"
     ]
    }
   ],
   "source": [
    "n = 0\n",
    "while(n < 5):\n",
    "    n += 1\n",
    "    for i in range(1,n):\n",
    "        print('Ciclo while nro ' + str(n))\n",
    "        print('Ciclo for nro ' + str(i))"
   ]
  },
  {
   "attachments": {},
   "cell_type": "markdown",
   "metadata": {},
   "source": [
    "8) Crear un ciclo while dentro de un ciclo for"
   ]
  },
  {
   "cell_type": "code",
   "execution_count": 14,
   "metadata": {},
   "outputs": [
    {
     "name": "stdout",
     "output_type": "stream",
     "text": [
      "Ciclo  5\n"
     ]
    }
   ],
   "source": [
    "n = 5\n",
    "for i in range (1,n):\n",
    "    while (n < 5):\n",
    "        n -= 1\n",
    "        \n",
    "        \n",
    "print('Ciclo ', n)\n",
    "        "
   ]
  },
  {
   "cell_type": "code",
   "execution_count": 18,
   "metadata": {},
   "outputs": [
    {
     "name": "stdout",
     "output_type": "stream",
     "text": [
      "Ciclo while nro 5\n",
      "Ciclo while nro 5\n",
      "Ciclo while nro 5\n",
      "Ciclo while nro 5\n",
      "Ciclo for nro 4\n"
     ]
    }
   ],
   "source": [
    "n = 5\n",
    "for i in range(1, n):\n",
    "    while(n < 5):\n",
    "        n -= 1\n",
    "    print('Ciclo while nro ' + str(n))\n",
    "print('Ciclo for nro ' + str(i))"
   ]
  },
  {
   "attachments": {},
   "cell_type": "markdown",
   "metadata": {},
   "source": [
    "9) Imprimir los números primos existentes entre 0 y 30"
   ]
  },
  {
   "cell_type": "code",
   "execution_count": null,
   "metadata": {},
   "outputs": [],
   "source": []
  },
  {
   "cell_type": "code",
   "execution_count": 19,
   "metadata": {},
   "outputs": [
    {
     "name": "stdout",
     "output_type": "stream",
     "text": [
      "0\n",
      "1\n",
      "2\n",
      "3\n",
      "5\n",
      "7\n",
      "11\n",
      "13\n",
      "17\n",
      "19\n",
      "23\n",
      "29\n"
     ]
    }
   ],
   "source": [
    "tope_rango=30\n",
    "n = 0\n",
    "primo = True\n",
    "while (n < tope_rango):\n",
    "    for div in range(2, n):\n",
    "        if (n % div == 0):\n",
    "            primo = False\n",
    "    if (primo):\n",
    "        print(n)\n",
    "    else:\n",
    "        primo = True\n",
    "    n += 1"
   ]
  },
  {
   "attachments": {},
   "cell_type": "markdown",
   "metadata": {},
   "source": [
    "10) ¿Se puede mejorar el proceso del punto 9? Utilizar las sentencias break y/ó continue para tal fin"
   ]
  },
  {
   "cell_type": "code",
   "execution_count": null,
   "metadata": {},
   "outputs": [],
   "source": []
  },
  {
   "cell_type": "code",
   "execution_count": 20,
   "metadata": {},
   "outputs": [
    {
     "name": "stdout",
     "output_type": "stream",
     "text": [
      "0\n",
      "1\n",
      "2\n",
      "3\n",
      "5\n",
      "7\n",
      "11\n",
      "13\n",
      "17\n",
      "19\n",
      "23\n",
      "29\n"
     ]
    }
   ],
   "source": [
    "n = 0\n",
    "primo = True\n",
    "while (n < tope_rango):\n",
    "    for div in range(2, n):\n",
    "        if (n % div == 0):\n",
    "            primo = False\n",
    "            break\n",
    "    if (primo):\n",
    "        print(n)\n",
    "    else:\n",
    "        primo = True\n",
    "    n += 1"
   ]
  }
 ],
 "metadata": {
  "kernelspec": {
   "display_name": "Python 3",
   "language": "python",
   "name": "python3"
  },
  "language_info": {
   "codemirror_mode": {
    "name": "ipython",
    "version": 3
   },
   "file_extension": ".py",
   "mimetype": "text/x-python",
   "name": "python",
   "nbconvert_exporter": "python",
   "pygments_lexer": "ipython3",
   "version": "3.11.1"
  },
  "orig_nbformat": 4,
  "vscode": {
   "interpreter": {
    "hash": "89a5003fa4d04edff07a126a2c6f2ee59ee1adb31e9fcd60b29f2b77c18232ea"
   }
  }
 },
 "nbformat": 4,
 "nbformat_minor": 2
}

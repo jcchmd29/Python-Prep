{
 "cells": [
  {
   "cell_type": "markdown",
   "metadata": {},
   "source": []
  },
  {
   "attachments": {},
   "cell_type": "markdown",
   "metadata": {},
   "source": [
    "1) Crear una variable que contenga un elemento del conjunto de números enteros y luego imprimir por pantalla si es mayor o menor a cero"
   ]
  },
  {
   "cell_type": "code",
   "execution_count": 34,
   "metadata": {},
   "outputs": [
    {
     "name": "stdout",
     "output_type": "stream",
     "text": [
      "-8  El numero es menor que cero\n"
     ]
    }
   ],
   "source": [
    "num = -8\n",
    "if (num > 0):\n",
    "    print(num,' El numero es mayor a cero')\n",
    "elif (num < 0):\n",
    "        print(num,' El numero es menor que cero')\n",
    "else:\n",
    "    print('El numero introducido Es igual a Cero')\n"
   ]
  },
  {
   "attachments": {},
   "cell_type": "markdown",
   "metadata": {},
   "source": [
    "2) Crear dos variables y un condicional que informe si son del mismo tipo de dato"
   ]
  },
  {
   "cell_type": "code",
   "execution_count": 27,
   "metadata": {},
   "outputs": [
    {
     "name": "stdout",
     "output_type": "stream",
     "text": [
      "No son del mismo tipo la variable 1 es  <class 'str'> y la 2 es  <class 'int'>\n"
     ]
    }
   ],
   "source": [
    "var1 = '4'\n",
    "var2 = 2\n",
    "if (type (var1) == type (var2)):\n",
    "    print( var1, 'y', var2, ' son del mismo tipo', type(var1))\n",
    "else:\n",
    "    print ('No son del mismo tipo', 'la variable 1 es ', type (var1), 'y la 2 es ', type(var2))"
   ]
  },
  {
   "attachments": {},
   "cell_type": "markdown",
   "metadata": {},
   "source": [
    "3) Para los valores enteros del 1 al 20, imprimir por pantalla si es par o impar\n"
   ]
  },
  {
   "cell_type": "code",
   "execution_count": null,
   "metadata": {},
   "outputs": [],
   "source": [
    "for n in range (1,21):\n",
    "    if (n % 2 == 0):\n",
    "        print(n, 'Par')\n",
    "    else:\n",
    "        print(n, 'Impar')"
   ]
  },
  {
   "cell_type": "code",
   "execution_count": null,
   "metadata": {},
   "outputs": [],
   "source": [
    "print ('Estos son los pares:')\n",
    "\n",
    "for n in range(1,21):\n",
    "\n",
    "    if (n % 2 == 0):\n",
    "        print(n)\n",
    "          \n",
    "print ('Estos son los impares:')\n",
    "\n",
    "for n in range(1,21):\n",
    "\n",
    "    if (n % 2 > 0):\n",
    "        print(n)"
   ]
  },
  {
   "attachments": {},
   "cell_type": "markdown",
   "metadata": {},
   "source": [
    "4) En un ciclo for mostrar para los valores entre 0 y 5 el resultado de elevarlo a la potencia igual a 3"
   ]
  },
  {
   "cell_type": "code",
   "execution_count": 43,
   "metadata": {},
   "outputs": [
    {
     "name": "stdout",
     "output_type": "stream",
     "text": [
      "valos:  0  Elevado a la 3 es  0\n",
      "valos:  1  Elevado a la 3 es  1\n",
      "valos:  2  Elevado a la 3 es  8\n",
      "valos:  3  Elevado a la 3 es  27\n",
      "valos:  4  Elevado a la 3 es  64\n",
      "valos:  5  Elevado a la 3 es  125\n"
     ]
    }
   ],
   "source": [
    "for n in range(0,6):\n",
    "    print ('valos: ', str(n), ' Elevado a la 3 es ', str(n ** 3))"
   ]
  },
  {
   "attachments": {},
   "cell_type": "markdown",
   "metadata": {},
   "source": [
    "5) Crear una variable que contenga un número entero y realizar un ciclo for la misma cantidad de ciclos"
   ]
  },
  {
   "cell_type": "code",
   "execution_count": 47,
   "metadata": {},
   "outputs": [
    {
     "name": "stdout",
     "output_type": "stream",
     "text": [
      "4\n"
     ]
    }
   ],
   "source": [
    "var = 5\n",
    "for i in range (0,var):\n",
    "    pass # pass para rellenar un ciclo sin otra ejecucion\n",
    "   \n",
    "print (i)\n",
    "    \n"
   ]
  },
  {
   "attachments": {},
   "cell_type": "markdown",
   "metadata": {},
   "source": [
    "6) Utilizar un ciclo while para realizar el factorial de un número guardado en una variable, sólo si la variable contiene un número entero mayor a 0"
   ]
  },
  {
   "cell_type": "code",
   "execution_count": 122,
   "metadata": {},
   "outputs": [
    {
     "name": "stdout",
     "output_type": "stream",
     "text": [
      "El factorial de 3 es 6\n"
     ]
    }
   ],
   "source": [
    "a = 3\n",
    "\n",
    "if (type(a) == int):\n",
    "    if (a > 0):\n",
    "        ao = a\n",
    "        while (a > 2):\n",
    "            factorial = factorial * a\n",
    "            a -= 1\n",
    "    else:\n",
    "        print('La variable debe ser Mayor a Cero')\n",
    "    #factorial = 0\n",
    "else:\n",
    "    print('El numero debe ser un Entero')\n",
    "print('El factorial de ' + str(ao) + ' es ' + str(factorial))\n",
    "factorial = a\n"
   ]
  },
  {
   "attachments": {},
   "cell_type": "markdown",
   "metadata": {},
   "source": [
    "7) Crear un ciclo for dentro de un ciclo while"
   ]
  },
  {
   "cell_type": "code",
   "execution_count": 4,
   "metadata": {},
   "outputs": [
    {
     "name": "stdout",
     "output_type": "stream",
     "text": [
      "0  ciclo For\n",
      "1  ciclo For\n",
      "2  ciclo For\n",
      "3  ciclo For\n",
      "4  ciclo For\n",
      "Fin Ciclo while \n"
     ]
    }
   ],
   "source": [
    "n = 5\n",
    "while (i < n ):\n",
    "    n += 1\n",
    "    for i in range (1,n):\n",
    "        print (i,' ciclo For')\n",
    "        n -= 1\n",
    "print ('Fin Ciclo while ')\n",
    "n=0\n"
   ]
  },
  {
   "cell_type": "code",
   "execution_count": 3,
   "metadata": {},
   "outputs": [
    {
     "name": "stdout",
     "output_type": "stream",
     "text": [
      "Ciclo while nro 2\n",
      "Ciclo for nro 1\n",
      "Ciclo while nro 3\n",
      "Ciclo for nro 1\n",
      "Ciclo while nro 3\n",
      "Ciclo for nro 2\n",
      "Ciclo while nro 4\n",
      "Ciclo for nro 1\n",
      "Ciclo while nro 4\n",
      "Ciclo for nro 2\n",
      "Ciclo while nro 4\n",
      "Ciclo for nro 3\n",
      "Ciclo while nro 5\n",
      "Ciclo for nro 1\n",
      "Ciclo while nro 5\n",
      "Ciclo for nro 2\n",
      "Ciclo while nro 5\n",
      "Ciclo for nro 3\n",
      "Ciclo while nro 5\n",
      "Ciclo for nro 4\n"
     ]
    }
   ],
   "source": [
    "n = 0\n",
    "while(n < 5):\n",
    "    n += 1\n",
    "    for i in range(1,n):\n",
    "        print('Ciclo while nro ' + str(n))\n",
    "        print('Ciclo for nro ' + str(i))"
   ]
  },
  {
   "attachments": {},
   "cell_type": "markdown",
   "metadata": {},
   "source": [
    "8) Crear un ciclo while dentro de un ciclo for"
   ]
  },
  {
   "cell_type": "code",
   "execution_count": 14,
   "metadata": {},
   "outputs": [
    {
     "name": "stdout",
     "output_type": "stream",
     "text": [
      "Ciclo  5\n"
     ]
    }
   ],
   "source": [
    "n = 5\n",
    "for i in range (1,n):\n",
    "    while (n < 5):\n",
    "        n -= 1\n",
    "        \n",
    "        \n",
    "print('Ciclo ', n)\n",
    "        "
   ]
  },
  {
   "cell_type": "code",
   "execution_count": 18,
   "metadata": {},
   "outputs": [
    {
     "name": "stdout",
     "output_type": "stream",
     "text": [
      "Ciclo while nro 5\n",
      "Ciclo while nro 5\n",
      "Ciclo while nro 5\n",
      "Ciclo while nro 5\n",
      "Ciclo for nro 4\n"
     ]
    }
   ],
   "source": [
    "n = 5\n",
    "for i in range(1, n):\n",
    "    while(n < 5):\n",
    "        n -= 1\n",
    "    print('Ciclo while nro ' + str(n))\n",
    "print('Ciclo for nro ' + str(i))"
   ]
  },
  {
   "attachments": {},
   "cell_type": "markdown",
   "metadata": {},
   "source": [
    "9) Imprimir los números primos existentes entre 0 y 30"
   ]
  },
  {
   "cell_type": "code",
   "execution_count": 157,
   "metadata": {},
   "outputs": [
    {
     "name": "stdout",
     "output_type": "stream",
     "text": [
      "0 Es Primo\n",
      "1 Es Primo\n",
      "2 Es Primo\n",
      "3 Es Primo\n",
      "5 Es Primo\n",
      "7 Es Primo\n",
      "11 Es Primo\n",
      "13 Es Primo\n",
      "17 Es Primo\n",
      "19 Es Primo\n",
      "23 Es Primo\n",
      "29 Es Primo\n"
     ]
    }
   ],
   "source": [
    "\n",
    "for n in range (0,31):\n",
    "    esprimo = True\n",
    "    for i in range (2,n):\n",
    "        if (n % i == 0):\n",
    "            esprimo = False\n",
    "            \n",
    "    if (esprimo == True):\n",
    "        print (n, 'Es Primo')\n",
    "  \n"
   ]
  },
  {
   "cell_type": "code",
   "execution_count": 19,
   "metadata": {},
   "outputs": [
    {
     "name": "stdout",
     "output_type": "stream",
     "text": [
      "0\n",
      "1\n",
      "2\n",
      "3\n",
      "5\n",
      "7\n",
      "11\n",
      "13\n",
      "17\n",
      "19\n",
      "23\n",
      "29\n"
     ]
    }
   ],
   "source": [
    "tope_rango=30\n",
    "n = 0\n",
    "primo = True\n",
    "while (n < tope_rango):\n",
    "    for div in range(2, n):\n",
    "        if (n % div == 0):\n",
    "            primo = False\n",
    "    if (primo):\n",
    "        print(n)\n",
    "    else:\n",
    "        primo = True\n",
    "    n += 1"
   ]
  },
  {
   "attachments": {},
   "cell_type": "markdown",
   "metadata": {},
   "source": [
    "10) ¿Se puede mejorar el proceso del punto 9? Utilizar las sentencias break y/ó continue para tal fin"
   ]
  },
  {
   "cell_type": "code",
   "execution_count": 164,
   "metadata": {},
   "outputs": [
    {
     "name": "stdout",
     "output_type": "stream",
     "text": [
      "0 Es Primo\n",
      "1 Es Primo\n",
      "2 Es Primo\n",
      "3 Es Primo\n",
      "5 Es Primo\n",
      "7 Es Primo\n",
      "11 Es Primo\n",
      "13 Es Primo\n",
      "17 Es Primo\n",
      "19 Es Primo\n",
      "23 Es Primo\n",
      "29 Es Primo\n",
      "cantidad de ciclos ejecutados 135\n"
     ]
    }
   ],
   "source": [
    "cant = 0\n",
    "for n in range (0,31):\n",
    "    esprimo = True\n",
    "    for i in range (2,n):\n",
    "        cant += 1\n",
    "        if (n % i == 0):\n",
    "            esprimo = False\n",
    "            break\n",
    "    if (esprimo == True):\n",
    "        print (n, 'Es Primo')\n",
    "\n",
    "print ('cantidad de ciclos ejecutados' , cant)"
   ]
  },
  {
   "cell_type": "code",
   "execution_count": 3,
   "metadata": {},
   "outputs": [
    {
     "name": "stdout",
     "output_type": "stream",
     "text": [
      "0\n",
      "1\n",
      "2\n",
      "3\n",
      "5\n",
      "7\n",
      "11\n",
      "13\n",
      "17\n",
      "19\n"
     ]
    }
   ],
   "source": [
    "n = 0\n",
    "primo = True\n",
    "while (n < 20):\n",
    "    for div in range(2, n):\n",
    "        if (n % div == 0):\n",
    "            primo = False\n",
    "            break\n",
    "    if (primo):\n",
    "        print(n)\n",
    "    else:\n",
    "        primo = True\n",
    "    n += 1"
   ]
  },
  {
   "cell_type": "code",
   "execution_count": 166,
   "metadata": {},
   "outputs": [
    {
     "name": "stdout",
     "output_type": "stream",
     "text": [
      "juan\n"
     ]
    }
   ],
   "source": [
    "a = input('Ingresa nombre')\n",
    "print(a)"
   ]
  }
 ],
 "metadata": {
  "kernelspec": {
   "display_name": "Python 3",
   "language": "python",
   "name": "python3"
  },
  "language_info": {
   "codemirror_mode": {
    "name": "ipython",
    "version": 3
   },
   "file_extension": ".py",
   "mimetype": "text/x-python",
   "name": "python",
   "nbconvert_exporter": "python",
   "pygments_lexer": "ipython3",
   "version": "3.11.1"
  },
  "orig_nbformat": 4,
  "vscode": {
   "interpreter": {
    "hash": "89a5003fa4d04edff07a126a2c6f2ee59ee1adb31e9fcd60b29f2b77c18232ea"
   }
  }
 },
 "nbformat": 4,
 "nbformat_minor": 2
}
